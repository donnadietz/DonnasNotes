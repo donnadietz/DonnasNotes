{
  "nbformat": 4,
  "nbformat_minor": 0,
  "metadata": {
    "colab": {
      "provenance": [],
      "include_colab_link": true
    },
    "kernelspec": {
      "name": "python3",
      "display_name": "Python 3"
    },
    "language_info": {
      "name": "python"
    }
  },
  "cells": [
    {
      "cell_type": "markdown",
      "metadata": {
        "id": "view-in-github",
        "colab_type": "text"
      },
      "source": [
        "<a href=\"https://colab.research.google.com/github/donnadietz/DonnasNotes/blob/master/pysheaf_example_3_two_cars.ipynb\" target=\"_parent\"><img src=\"https://colab.research.google.com/assets/colab-badge.svg\" alt=\"Open In Colab\"/></a>"
      ]
    },
    {
      "cell_type": "markdown",
      "source": [
        "DD pysheaf example/s 3  TWO EYES, One \"moving\" car (t=0,1,2 implied at V0,V1,V2)\n",
        "March 29, 2024\n",
        "[Added By Nao T. https://www.youtube.com/watch?v=joypQjO1ZX4 - youtube video mentioned in Donna's video]"
      ],
      "metadata": {
        "id": "yTD6OpCLyvJQ"
      }
    },
    {
      "cell_type": "code",
      "execution_count": null,
      "metadata": {
        "colab": {
          "base_uri": "https://localhost:8080/"
        },
        "id": "3pp6VonUyi4b",
        "outputId": "b4fdc5cc-ed34-4a12-b765-14fa30a68166"
      },
      "outputs": [
        {
          "output_type": "stream",
          "name": "stdout",
          "text": [
            "Cloning into 'pysheaf'...\n",
            "remote: Enumerating objects: 1174, done.\u001b[K\n",
            "remote: Counting objects: 100% (19/19), done.\u001b[K\n",
            "remote: Compressing objects: 100% (12/12), done.\u001b[K\n",
            "remote: Total 1174 (delta 8), reused 15 (delta 7), pack-reused 1155\u001b[K\n",
            "Receiving objects: 100% (1174/1174), 877.26 KiB | 9.33 MiB/s, done.\n",
            "Resolving deltas: 100% (751/751), done.\n",
            "Processing ./pysheaf\n",
            "  Preparing metadata (setup.py) ... \u001b[?25l\u001b[?25hdone\n",
            "Requirement already satisfied: scipy>=1.0 in /usr/local/lib/python3.10/dist-packages (from pysheaf==0.3.1) (1.11.4)\n",
            "Requirement already satisfied: numpy in /usr/local/lib/python3.10/dist-packages (from pysheaf==0.3.1) (1.25.2)\n",
            "Requirement already satisfied: networkx in /usr/local/lib/python3.10/dist-packages (from pysheaf==0.3.1) (3.3)\n",
            "Collecting deap (from pysheaf==0.3.1)\n",
            "  Downloading deap-1.4.1-cp310-cp310-manylinux_2_5_x86_64.manylinux1_x86_64.manylinux_2_17_x86_64.manylinux2014_x86_64.whl (135 kB)\n",
            "\u001b[2K     \u001b[90m━━━━━━━━━━━━━━━━━━━━━━━━━━━━━━━━━━━━━━━━\u001b[0m \u001b[32m135.4/135.4 kB\u001b[0m \u001b[31m1.2 MB/s\u001b[0m eta \u001b[36m0:00:00\u001b[0m\n",
            "\u001b[?25hBuilding wheels for collected packages: pysheaf\n",
            "  Building wheel for pysheaf (setup.py) ... \u001b[?25l\u001b[?25hdone\n",
            "  Created wheel for pysheaf: filename=pysheaf-0.3.1-py3-none-any.whl size=26306 sha256=52738d8ed6d5142fd5109bafb4e31c59b8ceff44939e89a316945b485b8e3e4a\n",
            "  Stored in directory: /tmp/pip-ephem-wheel-cache-rgnxk2e4/wheels/da/21/db/aab562b5fd8399716a0c527ab0ceceda34bbebe719ae382e4e\n",
            "Successfully built pysheaf\n",
            "Installing collected packages: deap, pysheaf\n",
            "Successfully installed deap-1.4.1 pysheaf-0.3.1\n"
          ]
        }
      ],
      "source": [
        "!git clone https://github.com/kb1dds/pysheaf.git\n",
        "!pip install pysheaf/"
      ]
    },
    {
      "cell_type": "code",
      "source": [
        "#Obligatory imports\n",
        "import numpy as np\n",
        "import networkx as nx\n",
        "import matplotlib.pyplot as plt\n",
        "import pysheaf as ps"
      ],
      "metadata": {
        "id": "x-lnSiNpyyfz"
      },
      "execution_count": null,
      "outputs": []
    },
    {
      "cell_type": "code",
      "source": [
        "#Define the sheaf cells/nodes\n",
        "shf=ps.Sheaf()\n",
        "shf.mNumpyNormType = 2\n",
        "shf.AddCell('v0',ps.Cell('real2',dataDimension=2)) # default dataDimension=1  v=vehicle\n",
        "shf.AddCell('v2',ps.Cell('real2',dataDimension=2))\n",
        "shf.AddCell('OS0',ps.Cell('real',dataDimension=1)) #oculus sinister\n",
        "shf.AddCell('OD0',ps.Cell('real',dataDimension=1)) #oculus dexter\n",
        "shf.AddCell('OS2',ps.Cell('real',dataDimension=1)) #oculus sinister\n",
        "shf.AddCell('OD2',ps.Cell('real',dataDimension=1)) #oculus dexter\n"
      ],
      "metadata": {
        "id": "firbTlmHyzz6"
      },
      "execution_count": null,
      "outputs": []
    },
    {
      "cell_type": "code",
      "source": [
        "#Add edges/arcs/Cofaces\n",
        "#\"Contants\" but coded as variables. Be sure not to change them!!!\n",
        "OSx, OSy = -1, 0\n",
        "ODx, ODy =  1, 0"
      ],
      "metadata": {
        "id": "BX0NrX1uy2cZ"
      },
      "execution_count": null,
      "outputs": []
    },
    {
      "cell_type": "code",
      "source": [
        "#weight only needed once b/c we have 2 types of metrics (angles, distances)\n",
        "wt=1\n",
        "#Start with wt=1, then change as desired."
      ],
      "metadata": {
        "id": "RpMift69y4Uu"
      },
      "execution_count": null,
      "outputs": []
    },
    {
      "cell_type": "code",
      "source": [
        "shf.AddCoface('v0','OS0',ps.Coface('real2','real',lambda v0xy : wt*np.arctan2(v0xy[1]-OSy, v0xy[0]-OSx) ))\n",
        "shf.AddCoface('v0','OD0',ps.Coface('real2','real',lambda v0xy : wt*np.arctan2(v0xy[1]-ODy, v0xy[0]-ODx) ))\n",
        "shf.AddCoface('v2','OS2',ps.Coface('real2','real',lambda v2xy : wt*np.arctan2(v2xy[1]-OSy, v2xy[0]-OSx) ))\n",
        "shf.AddCoface('v2','OD2',ps.Coface('real2','real',lambda v2xy : wt*np.arctan2(v2xy[1]-ODy, v2xy[0]-ODx) ))\n"
      ],
      "metadata": {
        "id": "pxDenZj4y51D"
      },
      "execution_count": null,
      "outputs": []
    },
    {
      "cell_type": "code",
      "source": [
        "#Make a plot hopefully\n",
        "pos=nx.layout.spring_layout(shf)\n",
        "nx.draw_networkx_labels(shf,pos)\n",
        "nx.draw_networkx_edges(shf,pos)\n",
        "plt.show()"
      ],
      "metadata": {
        "colab": {
          "base_uri": "https://localhost:8080/",
          "height": 406
        },
        "id": "hmLIAW13y7PK",
        "outputId": "0cfb087e-8e22-4743-8069-c85d8a82b87d"
      },
      "execution_count": null,
      "outputs": [
        {
          "output_type": "display_data",
          "data": {
            "text/plain": [
              "<Figure size 640x480 with 1 Axes>"
            ],
            "image/png": "[encoded data removed]"
          },
          "metadata": {}
        }
      ]
    },
    {
      "cell_type": "code",
      "source": [
        "#Put data on the cells - things you know on this round.... and bogus if not... scipy wants it in its optimizer\n",
        "\n",
        "shf.GetCell('OS0').SetDataAssignment(ps.Assignment('real', wt*1.8314)) #experienced angles, don't optimize this!\n",
        "shf.GetCell('OD0').SetDataAssignment(ps.Assignment('real', wt*1.9513)) #experienced angles, don't optimize this!\n",
        "shf.GetCell('OS2').SetDataAssignment(ps.Assignment('real', wt*0.4266)) #experienced angles, don't optimize this!\n",
        "shf.GetCell('OD2').SetDataAssignment(ps.Assignment('real', wt*0.5071)) #experienced angles, don't optimize this!\n",
        "\n",
        "shf.GetCell('v0').SetDataAssignment(ps.Assignment('real2', np.array([0, 8]))) # (-5,15) expected solution\n",
        "shf.GetCell('v2').SetDataAssignment(ps.Assignment('real2', np.array([0, 0]))) # (10, 5) expected solution\n"
      ],
      "metadata": {
        "id": "N2PqbHSDy8xT"
      },
      "execution_count": null,
      "outputs": []
    },
    {
      "cell_type": "code",
      "source": [
        "#Maximally Extend all cells\n",
        "shf.MaximallyExtendCell('OS0')\n",
        "shf.MaximallyExtendCell('OD0')\n",
        "shf.MaximallyExtendCell('OS2')\n",
        "shf.MaximallyExtendCell('OD2')\n",
        "shf.MaximallyExtendCell('v0')\n",
        "shf.MaximallyExtendCell('v2')"
      ],
      "metadata": {
        "id": "a-C-SMedy_ZT"
      },
      "execution_count": null,
      "outputs": []
    },
    {
      "cell_type": "code",
      "source": [
        "print(\"Starting Consistency Radius: \"+str(shf.ComputeConsistencyRadius()) )  #Starting point\n"
      ],
      "metadata": {
        "colab": {
          "base_uri": "https://localhost:8080/"
        },
        "id": "dWFRlROLzA0c",
        "outputId": "7b6d9531-489f-4a64-abd8-9a68c1943a78"
      },
      "execution_count": null,
      "outputs": [
        {
          "output_type": "stream",
          "name": "stdout",
          "text": [
            "Starting Consistency Radius: 2.7085687038128263\n"
          ]
        }
      ]
    },
    {
      "cell_type": "code",
      "source": [
        "shf.GetCell('v0').mOptimizationCell = True\n",
        "shf.GetCell('v2').mOptimizationCell = True\n",
        "#default, rest are false\n"
      ],
      "metadata": {
        "id": "RUGNOv9czCZ_"
      },
      "execution_count": null,
      "outputs": []
    },
    {
      "cell_type": "code",
      "source": [
        "shf.FuseAssignment()\n",
        "for nd in shf.nodes():\n",
        "    print('Value at {} is {}'.format(nd,shf.GetCell(nd).mDataAssignment))\n",
        "print('Consistency Radius: '+str(shf.ComputeConsistencyRadius()) )\n"
      ],
      "metadata": {
        "colab": {
          "base_uri": "https://localhost:8080/"
        },
        "id": "Z0AJHAOPzD7F",
        "outputId": "508cc245-1f74-4647-c074-a6c06e43217c"
      },
      "execution_count": null,
      "outputs": [
        {
          "output_type": "stream",
          "name": "stdout",
          "text": [
            "Value at v0 is [-4.99996639 14.99987736]\n",
            "Value at v2 is [9.99371412 4.99655103]\n",
            "Value at OS0 is 1.8314\n",
            "Value at OD0 is 1.9513\n",
            "Value at OS2 is 0.4266\n",
            "Value at OD2 is 0.5071\n",
            "Consistency Radius: 1.7675229709638253e-05\n"
          ]
        }
      ]
    },
    {
      "cell_type": "code",
      "source": [
        "print(\"Recall: Expected v0=(-5,15) and v2=(10,5) CR~0\")\n"
      ],
      "metadata": {
        "colab": {
          "base_uri": "https://localhost:8080/"
        },
        "id": "68HBXebAzFnt",
        "outputId": "d801df61-db74-4b7d-dd0c-f2350fc1df0c"
      },
      "execution_count": null,
      "outputs": [
        {
          "output_type": "stream",
          "name": "stdout",
          "text": [
            "Recall: Expected v0=(-5,15) and v2=(10,5) CR~0\n"
          ]
        }
      ]
    }
  ]
}