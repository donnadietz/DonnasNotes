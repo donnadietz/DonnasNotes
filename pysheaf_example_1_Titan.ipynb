{
  "nbformat": 4,
  "nbformat_minor": 0,
  "metadata": {
    "colab": {
      "provenance": [],
      "include_colab_link": true
    },
    "kernelspec": {
      "name": "python3",
      "display_name": "Python 3"
    },
    "language_info": {
      "name": "python"
    }
  },
  "cells": [
    {
      "cell_type": "markdown",
      "metadata": {
        "id": "view-in-github",
        "colab_type": "text"
      },
      "source": [
        "<a href=\"https://colab.research.google.com/github/donnadietz/DonnasNotes/blob/master/pysheaf_example_1_Titan.ipynb\" target=\"_parent\"><img src=\"https://colab.research.google.com/assets/colab-badge.svg\" alt=\"Open In Colab\"/></a>"
      ]
    },
    {
      "cell_type": "markdown",
      "source": [
        "Preliminary pysheaf example\n",
        "Donna Dietz - American University\n",
        "April 3, 2024\n",
        "\n",
        "This example is inspired by the \"Titan\" submersible which exploded\n",
        "on the 18th of June in 2023.\n",
        "Presume that 4  underwater sensors heard the explosion and we wish to\n",
        "determine the time and location of the explosion along with the\n",
        "sound propogation speed (presuming it's constant, which it isn't actually)."
      ],
      "metadata": {
        "id": "uCbYnGW0v97i"
      }
    },
    {
      "cell_type": "code",
      "source": [
        "!git clone https://github.com/kb1dds/pysheaf.git\n",
        "!pip install pysheaf/"
      ],
      "metadata": {
        "colab": {
          "base_uri": "https://localhost:8080/"
        },
        "id": "1gDo2wKeyBaS",
        "outputId": "3a6ccea4-7fce-4896-a972-35f1e284913d"
      },
      "execution_count": null,
      "outputs": [
        {
          "output_type": "stream",
          "name": "stdout",
          "text": [
            "Cloning into 'pysheaf'...\n",
            "remote: Enumerating objects: 1174, done.\u001b[K\n",
            "remote: Counting objects: 100% (19/19), done.\u001b[K\n",
            "remote: Compressing objects: 100% (12/12), done.\u001b[K\n",
            "remote: Total 1174 (delta 8), reused 15 (delta 7), pack-reused 1155\u001b[K\n",
            "Receiving objects: 100% (1174/1174), 877.26 KiB | 11.70 MiB/s, done.\n",
            "Resolving deltas: 100% (751/751), done.\n",
            "Processing ./pysheaf\n",
            "  Preparing metadata (setup.py) ... \u001b[?25l\u001b[?25hdone\n",
            "Requirement already satisfied: scipy>=1.0 in /usr/local/lib/python3.10/dist-packages (from pysheaf==0.3.1) (1.11.4)\n",
            "Requirement already satisfied: numpy in /usr/local/lib/python3.10/dist-packages (from pysheaf==0.3.1) (1.25.2)\n",
            "Requirement already satisfied: networkx in /usr/local/lib/python3.10/dist-packages (from pysheaf==0.3.1) (3.3)\n",
            "Collecting deap (from pysheaf==0.3.1)\n",
            "  Downloading deap-1.4.1-cp310-cp310-manylinux_2_5_x86_64.manylinux1_x86_64.manylinux_2_17_x86_64.manylinux2014_x86_64.whl (135 kB)\n",
            "\u001b[2K     \u001b[90m━━━━━━━━━━━━━━━━━━━━━━━━━━━━━━━━━━━━━━━━\u001b[0m \u001b[32m135.4/135.4 kB\u001b[0m \u001b[31m2.5 MB/s\u001b[0m eta \u001b[36m0:00:00\u001b[0m\n",
            "\u001b[?25hBuilding wheels for collected packages: pysheaf\n",
            "  Building wheel for pysheaf (setup.py) ... \u001b[?25l\u001b[?25hdone\n",
            "  Created wheel for pysheaf: filename=pysheaf-0.3.1-py3-none-any.whl size=26306 sha256=4962f677d29eb9a8d9d0d68bbb370da7e0bf89da0886c5fafe56cb7547f93c5a\n",
            "  Stored in directory: /tmp/pip-ephem-wheel-cache-0ffwb1kw/wheels/da/21/db/aab562b5fd8399716a0c527ab0ceceda34bbebe719ae382e4e\n",
            "Successfully built pysheaf\n",
            "Installing collected packages: deap, pysheaf\n",
            "Successfully installed deap-1.4.1 pysheaf-0.3.1\n"
          ]
        }
      ]
    },
    {
      "cell_type": "code",
      "execution_count": null,
      "metadata": {
        "id": "-EX7Wp2avybb"
      },
      "outputs": [],
      "source": [
        "#Obligatory imports\n",
        "import numpy as np\n",
        "import networkx as nx\n",
        "import matplotlib.pyplot as plt\n",
        "import pysheaf as ps"
      ]
    },
    {
      "cell_type": "code",
      "source": [
        "#Define the sheaf cells/nodes\n",
        "shf=ps.Sheaf()\n",
        "shf.mNumpyNormType = 2\n",
        "shf.AddCell('S1',ps.Cell('real',dataDimension=1)) # default dataDimension=1  Time (\"clock\") of arrival of pulse\n",
        "shf.AddCell('S2',ps.Cell('real',dataDimension=1))\n",
        "shf.AddCell('S3',ps.Cell('real',dataDimension=1))\n",
        "shf.AddCell('S4',ps.Cell('real',dataDimension=1))\n",
        "shf.AddCell('S5',ps.Cell('real',dataDimension=1))\n",
        "shf.AddCell('S6',ps.Cell('real',dataDimension=1))\n",
        "shf.AddCell('Titan',ps.Cell('real5',dataDimension=5))  #v=[x,y,z,t-explode,speed-reciprocal]\n"
      ],
      "metadata": {
        "id": "scDcBChqwPUL"
      },
      "execution_count": null,
      "outputs": []
    },
    {
      "cell_type": "code",
      "source": [
        "# Add edges/arcs/Cofaces\n",
        "# Use variables to hold sensor locations and arrival times for simplicity of coding\n",
        "# Titan is at [1,1,1] exploded at t=1000 sound_speed=0.5  all unknown!\n",
        "s1=[11,21,21,1060]  #location (for use now), with pulse detection time which will be used shortly!\n",
        "s2=[21,-29,61,1140]\n",
        "s3=[-9,-39,-79,1180]\n",
        "s4=[-39,-39,71,1180]\n",
        "s5=[21,-59,91,1220]\n",
        "s6=[-59,61,71,1220]\n",
        "#secret: exploded at t=1000"
      ],
      "metadata": {
        "id": "p4piXZ3kwgLH"
      },
      "execution_count": null,
      "outputs": []
    },
    {
      "cell_type": "code",
      "source": [
        "shf.AddCoface('Titan','S1',ps.Coface('real5','real',lambda v :  v[4]*(((s1[0]-v[0])**2+(s1[1]-v[1])**2+(s1[2]-v[2])**2)**0.5) +v[3]  ))\n",
        "shf.AddCoface('Titan','S2',ps.Coface('real5','real',lambda v :  v[4]*(((s2[0]-v[0])**2+(s2[1]-v[1])**2+(s2[2]-v[2])**2)**0.5) +v[3]  ))\n",
        "shf.AddCoface('Titan','S3',ps.Coface('real5','real',lambda v :  v[4]*(((s3[0]-v[0])**2+(s3[1]-v[1])**2+(s3[2]-v[2])**2)**0.5) +v[3]  ))\n",
        "shf.AddCoface('Titan','S4',ps.Coface('real5','real',lambda v :  v[4]*(((s4[0]-v[0])**2+(s4[1]-v[1])**2+(s4[2]-v[2])**2)**0.5) +v[3]  ))\n",
        "shf.AddCoface('Titan','S5',ps.Coface('real5','real',lambda v :  v[4]*(((s5[0]-v[0])**2+(s5[1]-v[1])**2+(s5[2]-v[2])**2)**0.5) +v[3]  ))\n",
        "shf.AddCoface('Titan','S6',ps.Coface('real5','real',lambda v :  v[4]*(((s6[0]-v[0])**2+(s6[1]-v[1])**2+(s6[2]-v[2])**2)**0.5) +v[3]  ))\n"
      ],
      "metadata": {
        "id": "9DXzXdRHwiSj"
      },
      "execution_count": null,
      "outputs": []
    },
    {
      "cell_type": "code",
      "source": [
        "#Make a plot\n",
        "pos=nx.layout.spiral_layout(shf)\n",
        "nx.draw_networkx_labels(shf,pos)\n",
        "nx.draw_networkx_edges(shf,pos)\n",
        "plt.show()\n"
      ],
      "metadata": {
        "colab": {
          "base_uri": "https://localhost:8080/",
          "height": 406
        },
        "id": "JDkZXPNQwkci",
        "outputId": "33efeada-aa15-4c8a-82a8-d69dcb52114f"
      },
      "execution_count": null,
      "outputs": [
        {
          "output_type": "display_data",
          "data": {
            "text/plain": [
              "<Figure size 640x480 with 1 Axes>"
            ],
            "image/png": "[encoded data removed]"
          },
          "metadata": {}
        }
      ]
    },
    {
      "cell_type": "code",
      "source": [
        "#Put data on the cells\n",
        "shf.GetCell('S1').SetDataAssignment(ps.Assignment('real',s1[3]))  # Actual pulse arrival time by the \"clock\"\n",
        "shf.GetCell('S2').SetDataAssignment(ps.Assignment('real',s2[3]))\n",
        "shf.GetCell('S3').SetDataAssignment(ps.Assignment('real',s3[3]))\n",
        "shf.GetCell('S4').SetDataAssignment(ps.Assignment('real',s4[3]))\n",
        "shf.GetCell('S5').SetDataAssignment(ps.Assignment('real',s5[3]))\n",
        "shf.GetCell('S6').SetDataAssignment(ps.Assignment('real',s6[3]))\n",
        "shf.GetCell('Titan').SetDataAssignment(ps.Assignment('real5',np.array([1020,1002,102,800,3]))) # Titan (only) has the bogus data\n"
      ],
      "metadata": {
        "id": "LA83D8C_wmZB"
      },
      "execution_count": null,
      "outputs": []
    },
    {
      "cell_type": "code",
      "source": [
        "#Maximally Extend all cells (Unless you know what matters!)\n",
        "#shf.MaximallyExtendCell('S1')\n",
        "#shf.MaximallyExtendCell('S2')\n",
        "#shf.MaximallyExtendCell('S3')\n",
        "#shf.MaximallyExtendCell('S4')\n",
        "shf.MaximallyExtendCell('Titan')"
      ],
      "metadata": {
        "id": "qBv2OcbKwoKl"
      },
      "execution_count": null,
      "outputs": []
    },
    {
      "cell_type": "code",
      "source": [
        "print(shf.ComputeConsistencyRadius())  #Starting point"
      ],
      "metadata": {
        "colab": {
          "base_uri": "https://localhost:8080/"
        },
        "id": "CaWSDqXOxSyC",
        "outputId": "02055608-32a9-4c55-f580-4758affac928"
      },
      "execution_count": null,
      "outputs": [
        {
          "output_type": "stream",
          "name": "stdout",
          "text": [
            "9752.73110676411\n"
          ]
        }
      ]
    },
    {
      "cell_type": "code",
      "source": [
        "shf.GetCell('Titan').mOptimizationCell = True\n",
        "#default, rest are false"
      ],
      "metadata": {
        "id": "5LOWRSHDx2Iv"
      },
      "execution_count": null,
      "outputs": []
    },
    {
      "cell_type": "code",
      "source": [
        "shf.FuseAssignment()\n",
        "for nd in shf.nodes():\n",
        "    print('Value at {} is {}'.format(nd,shf.GetCell(nd).mDataAssignment))\n",
        "print('Consistency Radius: '+str(shf.ComputeConsistencyRadius()) )"
      ],
      "metadata": {
        "colab": {
          "base_uri": "https://localhost:8080/"
        },
        "id": "DVmZs9AYx2sH",
        "outputId": "18e5b592-79b8-4c63-e350-3bcf20a32888"
      },
      "execution_count": null,
      "outputs": [
        {
          "output_type": "stream",
          "name": "stdout",
          "text": [
            "Value at S1 is 1060\n",
            "Value at S2 is 1140\n",
            "Value at S3 is 1180\n",
            "Value at S4 is 1180\n",
            "Value at S5 is 1220\n",
            "Value at S6 is 1220\n",
            "Value at Titan is [1.00889149e+00 1.00459412e+00 9.98317396e-01 1.00002845e+03\n",
            " 1.99963752e+00]\n",
            "Consistency Radius: 0.01619384978052194\n"
          ]
        }
      ]
    }
  ]
}