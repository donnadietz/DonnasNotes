{
  "nbformat": 4,
  "nbformat_minor": 0,
  "metadata": {
    "colab": {
      "provenance": [],
      "include_colab_link": true
    },
    "kernelspec": {
      "name": "python3",
      "display_name": "Python 3"
    },
    "language_info": {
      "name": "python"
    }
  },
  "cells": [
    {
      "cell_type": "markdown",
      "metadata": {
        "id": "view-in-github",
        "colab_type": "text"
      },
      "source": [
        "<a href=\"https://colab.research.google.com/github/donnadietz/DonnasNotes/blob/master/pysheaf_example_0_LSR.ipynb\" target=\"_parent\"><img src=\"https://colab.research.google.com/assets/colab-badge.svg\" alt=\"Open In Colab\"/></a>"
      ]
    },
    {
      "cell_type": "code",
      "source": [
        "!git clone https://github.com/kb1dds/pysheaf.git\n",
        "!pip install pysheaf/"
      ],
      "metadata": {
        "colab": {
          "base_uri": "https://localhost:8080/"
        },
        "id": "rv61UdQthNLg",
        "outputId": "9d4e29ad-7c2c-4a9d-bf4d-b1466d45af7a"
      },
      "execution_count": null,
      "outputs": [
        {
          "output_type": "stream",
          "name": "stdout",
          "text": [
            "fatal: destination path 'pysheaf' already exists and is not an empty directory.\n",
            "Processing ./pysheaf\n",
            "  Preparing metadata (setup.py) ... \u001b[?25l\u001b[?25hdone\n",
            "Requirement already satisfied: scipy>=1.0 in /usr/local/lib/python3.10/dist-packages (from pysheaf==0.3.1) (1.11.4)\n",
            "Requirement already satisfied: numpy in /usr/local/lib/python3.10/dist-packages (from pysheaf==0.3.1) (1.25.2)\n",
            "Requirement already satisfied: networkx in /usr/local/lib/python3.10/dist-packages (from pysheaf==0.3.1) (3.3)\n",
            "Collecting deap (from pysheaf==0.3.1)\n",
            "  Downloading deap-1.4.1-cp310-cp310-manylinux_2_5_x86_64.manylinux1_x86_64.manylinux_2_17_x86_64.manylinux2014_x86_64.whl (135 kB)\n",
            "\u001b[2K     \u001b[90m━━━━━━━━━━━━━━━━━━━━━━━━━━━━━━━━━━━━━━━━\u001b[0m \u001b[32m135.4/135.4 kB\u001b[0m \u001b[31m2.6 MB/s\u001b[0m eta \u001b[36m0:00:00\u001b[0m\n",
            "\u001b[?25hBuilding wheels for collected packages: pysheaf\n",
            "  Building wheel for pysheaf (setup.py) ... \u001b[?25l\u001b[?25hdone\n",
            "  Created wheel for pysheaf: filename=pysheaf-0.3.1-py3-none-any.whl size=26228 sha256=60699369859989b56aaa9907d9975b91ba5954e0bbc72cdc4b23c917613db31e\n",
            "  Stored in directory: /tmp/pip-ephem-wheel-cache-grzwpf2k/wheels/da/21/db/aab562b5fd8399716a0c527ab0ceceda34bbebe719ae382e4e\n",
            "Successfully built pysheaf\n",
            "Installing collected packages: deap, pysheaf\n",
            "Successfully installed deap-1.4.1 pysheaf-0.3.1\n"
          ]
        }
      ]
    },
    {
      "cell_type": "code",
      "execution_count": null,
      "metadata": {
        "id": "UTq1p5XyhESg"
      },
      "outputs": [],
      "source": [
        "# Obligatory imports\n",
        "import numpy as np\n",
        "import networkx as nx\n",
        "import matplotlib.pyplot as plt\n",
        "import pysheaf as ps\n"
      ]
    },
    {
      "cell_type": "code",
      "source": [
        "# Model: Points A, B, C, and D are fixed, LSR line (L) is being sought.  mb[0]=slope, mb[1]=intercept\n",
        "\n",
        "# Define the sheaf and its cells/nodes\n",
        "shf=ps.Sheaf()\n",
        "shf.mNumpyNormType = 2  #The default norm would be \"max\"."
      ],
      "metadata": {
        "id": "3IcUhxDmh43E"
      },
      "execution_count": null,
      "outputs": []
    },
    {
      "cell_type": "code",
      "source": [
        "# The value held by the cell A is the y-coordinate of the point called A.  (B, C, D likewise...)\n",
        "shf.AddCell('A',ps.Cell('real',dataDimension=1)) # default dataDimension=1 anyhow\n",
        "shf.AddCell('B',ps.Cell('real',dataDimension=1))\n",
        "shf.AddCell('C',ps.Cell('real',dataDimension=1))\n",
        "shf.AddCell('D',ps.Cell('real',dataDimension=1))\n",
        "shf.AddCell('L',ps.Cell('real2',dataDimension=2)) # This holds one numpy array of size two.  mb[0]=slope, mb[1]=intercept\n"
      ],
      "metadata": {
        "id": "pCj4FD8xh-MR"
      },
      "execution_count": null,
      "outputs": []
    },
    {
      "cell_type": "code",
      "source": [
        "# From a Python standpiont, we could now fill the points with data, however, the best practice\n",
        "# is to create your sheaf fully, then fill the entire thing with data.\n",
        "\n",
        "# Add edges/arcs/Cofaces\n",
        "shf.AddCoface('L','A',ps.Coface('real2','real',lambda mb : (  0*mb[0]+mb[1]))) #Partly hard-code point values! x-coords!\n",
        "shf.AddCoface('L','B',ps.Coface('real2','real',lambda mb : (1.5*mb[0]+mb[1])))\n",
        "shf.AddCoface('L','C',ps.Coface('real2','real',lambda mb : (1.5*mb[0]+mb[1])))\n",
        "shf.AddCoface('L','D',ps.Coface('real2','real',lambda mb : (  3*mb[0]+mb[1])))"
      ],
      "metadata": {
        "id": "zKJVC0hfiAec"
      },
      "execution_count": null,
      "outputs": []
    },
    {
      "cell_type": "code",
      "source": [
        "# Make a plot, ugly as it may be, you may find a bug in your code, so check the plot anyhow.\n",
        "pos=nx.layout.spiral_layout(shf)\n",
        "nx.draw_networkx_labels(shf,pos)\n",
        "nx.draw_networkx_edges(shf,pos)\n",
        "#plt.show() #Uncomment this to see the plot if you want to."
      ],
      "metadata": {
        "colab": {
          "base_uri": "https://localhost:8080/",
          "height": 475
        },
        "id": "T93QFtGwiC3V",
        "outputId": "bacfc9e8-e1b7-4399-a27e-0864fc40d8ec"
      },
      "execution_count": null,
      "outputs": [
        {
          "output_type": "execute_result",
          "data": {
            "text/plain": [
              "[<matplotlib.patches.FancyArrowPatch at 0x7a1b91c76620>,\n",
              " <matplotlib.patches.FancyArrowPatch at 0x7a1b91c76b60>,\n",
              " <matplotlib.patches.FancyArrowPatch at 0x7a1b91c76e90>,\n",
              " <matplotlib.patches.FancyArrowPatch at 0x7a1b91c770a0>]"
            ]
          },
          "metadata": {},
          "execution_count": 8
        },
        {
          "output_type": "display_data",
          "data": {
            "text/plain": [
              "<Figure size 640x480 with 1 Axes>"
            ],
            "image/png": "[encoded data removed]"
          },
          "metadata": {}
        }
      ]
    },
    {
      "cell_type": "code",
      "source": [
        "# Put (remaining) data on the cells\n",
        "shf.GetCell('A').SetDataAssignment(ps.Assignment('real',1))  #Point A at (0,1)   Note: y-coords end up here!\n",
        "shf.GetCell('B').SetDataAssignment(ps.Assignment('real',2))  #Point B at (1.5, 2)\n",
        "shf.GetCell('C').SetDataAssignment(ps.Assignment('real',3))  #Point C at (1.5,3)\n",
        "shf.GetCell('D').SetDataAssignment(ps.Assignment('real',4))  #Point D at (3,4)\n",
        "shf.GetCell('L').SetDataAssignment(ps.Assignment('real2',np.array([1,1])))  #Bogus data only: y=3x+2 starting out\n"
      ],
      "metadata": {
        "id": "KNU3rs-miGHn"
      },
      "execution_count": null,
      "outputs": []
    },
    {
      "cell_type": "code",
      "source": [
        "# Maximally Extend all cells\n",
        "# (This time, we only need L due to arrow directions. It doesn't hurt to do all of them though.)\n",
        "#shf.MaximallyExtendCell('A')\n",
        "#shf.MaximallyExtendCell('B')\n",
        "#shf.MaximallyExtendCell('C')\n",
        "#shf.MaximallyExtendCell('D')\n",
        "shf.MaximallyExtendCell('L')"
      ],
      "metadata": {
        "id": "PNdgGL5DiI13"
      },
      "execution_count": null,
      "outputs": []
    },
    {
      "cell_type": "code",
      "source": [
        "# Starting point - Check your model - Make sure this is near zero.\n",
        "print(shf.ComputeConsistencyRadius())"
      ],
      "metadata": {
        "colab": {
          "base_uri": "https://localhost:8080/"
        },
        "id": "VQlpGOpXiK_y",
        "outputId": "726c0762-3e39-400e-d445-8e31b21a6138"
      },
      "execution_count": null,
      "outputs": [
        {
          "output_type": "stream",
          "name": "stdout",
          "text": [
            "0.7071067811865476\n"
          ]
        }
      ]
    },
    {
      "cell_type": "code",
      "source": [
        "# By default, cells won't be optimized.\n",
        "# Any cells containing bogus starter data should be flagged here so they can be adjusted.\n",
        "shf.GetCell('L').mOptimizationCell = True"
      ],
      "metadata": {
        "id": "7D5iS8LaiM92"
      },
      "execution_count": null,
      "outputs": []
    },
    {
      "cell_type": "code",
      "source": [
        "# This is where all the sheaf magic occurs!\n",
        "shf.FuseAssignment()"
      ],
      "metadata": {
        "colab": {
          "base_uri": "https://localhost:8080/"
        },
        "id": "xuAdSNyDiOwu",
        "outputId": "ae1f1792-c457-4dc8-d68a-00b88557b3f1"
      },
      "execution_count": null,
      "outputs": [
        {
          "output_type": "execute_result",
          "data": {
            "text/plain": [
              " message: Optimization terminated successfully\n",
              " success: True\n",
              "  status: 0\n",
              "     fun: 0.7071067811865476\n",
              "       x: [ 1.000e+00  1.000e+00]\n",
              "     nit: 1\n",
              "     jac: [ 1.416e-07  3.725e-08]\n",
              "    nfev: 3\n",
              "    njev: 1"
            ]
          },
          "metadata": {},
          "execution_count": 13
        }
      ]
    },
    {
      "cell_type": "code",
      "source": [
        "# Report on what just happened to each cell and the overall Consistency Radius\n",
        "for nd in shf.nodes():\n",
        "    print('Value at {} is {}'.format(nd,shf.GetCell(nd).mDataAssignment))\n",
        "print('Consistency Radius: '+str(shf.ComputeConsistencyRadius()) )"
      ],
      "metadata": {
        "colab": {
          "base_uri": "https://localhost:8080/"
        },
        "id": "e2uqL6EJiQcA",
        "outputId": "f2c8cf53-f799-4f79-e0c1-9d9bdc1b2e78"
      },
      "execution_count": null,
      "outputs": [
        {
          "output_type": "stream",
          "name": "stdout",
          "text": [
            "Value at A is 1\n",
            "Value at B is 2\n",
            "Value at C is 3\n",
            "Value at D is 4\n",
            "Value at L is [1.         1.00000001]\n",
            "Consistency Radius: 0.7071067811865481\n"
          ]
        }
      ]
    },
    {
      "cell_type": "code",
      "source": [],
      "metadata": {
        "id": "xCxFhrKViTRS"
      },
      "execution_count": null,
      "outputs": []
    }
  ]
}